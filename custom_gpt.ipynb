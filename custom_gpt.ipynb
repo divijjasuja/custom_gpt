{
 "cells": [
  {
   "cell_type": "markdown",
   "metadata": {},
   "source": [
    "article being followed: https://levelup.gitconnected.com/building-a-million-parameter-llm-from-scratch-using-python-f612398f06c2"
   ]
  },
  {
   "cell_type": "markdown",
   "metadata": {},
   "source": [
    "## Importing libraries"
   ]
  },
  {
   "cell_type": "code",
   "execution_count": 1,
   "metadata": {},
   "outputs": [],
   "source": [
    "import os\n",
    "try:\n",
    "    # Importing important functions\n",
    "    # PyTorch\n",
    "    import torch\n",
    "\n",
    "    # Neural network modules and functions\n",
    "    from torch import nn\n",
    "    from torch.nn import functional as F\n",
    "\n",
    "    # Numpy for numerical operations\n",
    "    import numpy as np\n",
    "\n",
    "    # Plotting loss etc.\n",
    "    from matplotlib import pyplot as plt\n",
    "        \n",
    "    # Time\n",
    "    import time\n",
    "\n",
    "    # pandas for data manipulation\n",
    "    import pandas as pd\n",
    "\n",
    "    # urllib for handling URL requests (Downloding Dataset)\n",
    "    import urllib.request\n",
    "\n",
    "    # Progress bar\n",
    "    from tqdm import tqdm\n",
    "except AttributeError:\n",
    "    %pip install torch numpy time pandas matplotlib urllib3 tqdm\n",
    "    # Importing important functions\n",
    "    # PyTorch\n",
    "    import torch\n",
    "\n",
    "    # Neural network modules and functions\n",
    "    from torch import nn\n",
    "    from torch.nn import functional as F\n",
    "\n",
    "    # Numpy for numerical operations\n",
    "    import numpy as np\n",
    "\n",
    "    # Plotting loss etc.\n",
    "    from matplotlib import pyplot as plt\n",
    "        \n",
    "    # Time\n",
    "    import time\n",
    "\n",
    "    # pandas for data manipulation\n",
    "    import pandas as pd\n",
    "\n",
    "    # urllib for handling URL requests (Downloding Dataset)\n",
    "    import urllib.request\n"
   ]
  },
  {
   "cell_type": "markdown",
   "metadata": {},
   "source": [
    "## Hyper Parameters"
   ]
  },
  {
   "cell_type": "code",
   "execution_count": 2,
   "metadata": {},
   "outputs": [],
   "source": [
    "# hyper parameter dict\n",
    "MASTER_CONFIG = {\n",
    "    'batch_size' : 16,       #Number of batches to be processed at each random split\n",
    "    'context_window' : 8,  # Number of characters in each (x) and target(y)\n",
    "    'vocab_size' : 65,      # we have total 65 characters so vocab size is 65\n",
    "    'd_model' : 128,        # total hidden parameters per layer\n",
    "    'epochs' : 3000,        # total runs to train model\n",
    "    'log_interval' : 10,    # after how many turns do i want to log\n",
    "}"
   ]
  },
  {
   "cell_type": "markdown",
   "metadata": {},
   "source": [
    "## Downloading Data"
   ]
  },
  {
   "cell_type": "code",
   "execution_count": 3,
   "metadata": {},
   "outputs": [
    {
     "data": {
      "text/plain": [
       "('tinyshakespeare.txt', <http.client.HTTPMessage at 0x741fb999e810>)"
      ]
     },
     "execution_count": 3,
     "metadata": {},
     "output_type": "execute_result"
    }
   ],
   "source": [
    "# The URL of the raw text file on GitHub\n",
    "url = \"https://raw.githubusercontent.com/karpathy/char-rnn/master/data/tinyshakespeare/input.txt\"\n",
    "\n",
    "# The file name for local storage\n",
    "file_name = \"tinyshakespeare.txt\"\n",
    "\n",
    "# Execute the download\n",
    "urllib.request.urlretrieve(url, file_name)"
   ]
  },
  {
   "cell_type": "markdown",
   "metadata": {},
   "source": [
    "# playing with data"
   ]
  },
  {
   "cell_type": "code",
   "execution_count": 4,
   "metadata": {},
   "outputs": [
    {
     "name": "stdout",
     "output_type": "stream",
     "text": [
      "printing first 10 char: ['\\n', ' ', '!', '$', '&', \"'\", ',', '-', '.', '3']\n",
      "printing total char: 65\n"
     ]
    }
   ],
   "source": [
    "# Read all the content of the dataset\n",
    "lines = open(\"tinyshakespeare.txt\",\"r\").read()\n",
    "\n",
    "# create sorted list of unique characters in the dataset\n",
    "vocab = sorted(list(set(lines)))\n",
    "\n",
    "# Display first 10 characters\n",
    "print(f\"printing first 10 char: {vocab[:10]}\")\n",
    "\n",
    "# Display total char in our dataset\n",
    "print(f\"printing total char: {len(vocab)}\")"
   ]
  },
  {
   "cell_type": "markdown",
   "metadata": {},
   "source": [
    "## mapping"
   ]
  },
  {
   "cell_type": "code",
   "execution_count": 5,
   "metadata": {},
   "outputs": [
    {
     "name": "stdout",
     "output_type": "stream",
     "text": [
      "{0: '\\n', 1: ' ', 2: '!', 3: '$', 4: '&', 5: \"'\", 6: ',', 7: '-', 8: '.', 9: '3', 10: ':', 11: ';', 12: '?', 13: 'A', 14: 'B', 15: 'C', 16: 'D', 17: 'E', 18: 'F', 19: 'G', 20: 'H', 21: 'I', 22: 'J', 23: 'K', 24: 'L', 25: 'M', 26: 'N', 27: 'O', 28: 'P', 29: 'Q', 30: 'R', 31: 'S', 32: 'T', 33: 'U', 34: 'V', 35: 'W', 36: 'X', 37: 'Y', 38: 'Z', 39: 'a', 40: 'b', 41: 'c', 42: 'd', 43: 'e', 44: 'f', 45: 'g', 46: 'h', 47: 'i', 48: 'j', 49: 'k', 50: 'l', 51: 'm', 52: 'n', 53: 'o', 54: 'p', 55: 'q', 56: 'r', 57: 's', 58: 't', 59: 'u', 60: 'v', 61: 'w', 62: 'x', 63: 'y', 64: 'z'}\n",
      "\n",
      "\n",
      "{'\\n': 0, ' ': 1, '!': 2, '$': 3, '&': 4, \"'\": 5, ',': 6, '-': 7, '.': 8, '3': 9, ':': 10, ';': 11, '?': 12, 'A': 13, 'B': 14, 'C': 15, 'D': 16, 'E': 17, 'F': 18, 'G': 19, 'H': 20, 'I': 21, 'J': 22, 'K': 23, 'L': 24, 'M': 25, 'N': 26, 'O': 27, 'P': 28, 'Q': 29, 'R': 30, 'S': 31, 'T': 32, 'U': 33, 'V': 34, 'W': 35, 'X': 36, 'Y': 37, 'Z': 38, 'a': 39, 'b': 40, 'c': 41, 'd': 42, 'e': 43, 'f': 44, 'g': 45, 'h': 46, 'i': 47, 'j': 48, 'k': 49, 'l': 50, 'm': 51, 'n': 52, 'o': 53, 'p': 54, 'q': 55, 'r': 56, 's': 57, 't': 58, 'u': 59, 'v': 60, 'w': 61, 'x': 62, 'y': 63, 'z': 64}\n"
     ]
    }
   ],
   "source": [
    "#Mapping integers to characters (itos)\n",
    "itos = {i:ch for i,ch in enumerate(vocab)}\n",
    "\n",
    "#Mapping characters to integers (stoi)\n",
    "stoi = {ch:i for i,ch in enumerate(vocab)}\n",
    "\n",
    "# Display itos and stoi\n",
    "print(itos)\n",
    "print(\"\\n\")\n",
    "print(stoi)"
   ]
  },
  {
   "cell_type": "markdown",
   "metadata": {},
   "source": [
    "## Encoding"
   ]
  },
  {
   "cell_type": "code",
   "execution_count": 6,
   "metadata": {},
   "outputs": [
    {
     "name": "stdout",
     "output_type": "stream",
     "text": [
      "[46, 43, 50, 50, 53]\n",
      "hello\n"
     ]
    }
   ],
   "source": [
    "# Encode function: Converts a string to a list of int using stoi\n",
    "def encode(s):\n",
    "    return [stoi[ch] for ch in s]\n",
    "\n",
    "# Decode function: Converts a list of int to str using itos\n",
    "def decode(lst):\n",
    "    return \"\".join([itos[i] for i in lst])\n",
    "\n",
    "# Example Encode string \"hello\"\n",
    "print(encode(\"hello\"))\n",
    "\n",
    "# Example Decode list of int from encode\n",
    "print(decode(encode(\"hello\")))"
   ]
  },
  {
   "cell_type": "markdown",
   "metadata": {},
   "source": [
    "we got same result which is good"
   ]
  },
  {
   "cell_type": "markdown",
   "metadata": {},
   "source": [
    "## Turning our dataset to tensor"
   ]
  },
  {
   "cell_type": "code",
   "execution_count": 7,
   "metadata": {},
   "outputs": [
    {
     "name": "stdout",
     "output_type": "stream",
     "text": [
      "torch.Size([1115394])\n"
     ]
    }
   ],
   "source": [
    "# Convert dataset into torch tensor\n",
    "dataset = torch.tensor(encode(lines), dtype= torch.int8) #text is UTF-8\n",
    "\n",
    "# Display shape of resulting tensor\n",
    "print(dataset.shape)"
   ]
  },
  {
   "cell_type": "markdown",
   "metadata": {},
   "source": [
    "## Splitting dataset to train and test set"
   ]
  },
  {
   "cell_type": "code",
   "execution_count": 8,
   "metadata": {},
   "outputs": [],
   "source": [
    "# Function to get batches for training, validation or testing\n",
    "def get_batches(data, split, batch_size, context_window):\n",
    "    # Split dataset into training, validation and test sets\n",
    "    train = data[:int(.8 * len(data))]\n",
    "    val = data[int(.8 * len(data)) : int(.9 * len(data))]\n",
    "    test = data[int(.9 * len(data)):]\n",
    "\n",
    "    # Determine which split to use\n",
    "    batch_data = train\n",
    "    if split == \"val\":\n",
    "        batch_data = val\n",
    "    if split == \"test\":\n",
    "        batch_data = test\n",
    "\n",
    "    # Pick random starting point within data\n",
    "    ix = torch.randint(0, batch_data.size(0) - context_window - 1, (batch_size,))\n",
    "\n",
    "    # Create input sequences (x) and corresponding target sequences (y)\n",
    "    x = torch.stack([batch_data[i:i+context_window] for i in ix]).long()\n",
    "    y = torch.stack([batch_data[i+1:i+context_window+1] for i in ix]).long()\n",
    "\n",
    "    return x, y"
   ]
  },
  {
   "cell_type": "markdown",
   "metadata": {},
   "source": [
    "### Example"
   ]
  },
  {
   "cell_type": "code",
   "execution_count": 9,
   "metadata": {},
   "outputs": [
    {
     "name": "stdout",
     "output_type": "stream",
     "text": [
      "[(' farewel', 'farewell'), ('nd most ', 'd most a'), ('it: whis', 't: whist'), ('nodding ', 'odding o'), (' be the ', 'be the p'), ('cares, d', 'ares, di'), ('IUS:\\nSir', 'US:\\nSir,'), (\"thus 'tw\", \"hus 'twi\"), (\" banish'\", \"banish'd\"), ('king\\nWhe', 'ing\\nWher'), ('h now th', ' now the'), ('The pric', 'he price'), ('and towa', 'nd towar'), ('es, that', 's, that '), ('d rights', ' rights '), ('pple kne', 'ple knee')]\n",
      "length of batchsize = length of list: 16\n",
      "length of batchsize = length of each string: 8\n"
     ]
    }
   ],
   "source": [
    "# Obtain batches for training using batch size and context window\n",
    "xs, ys = get_batches(dataset, \"train\", MASTER_CONFIG['batch_size'], MASTER_CONFIG['context_window'])\n",
    "\n",
    "# Decode sequences to obtain text representations\n",
    "decoded_samples = [(decode(xs[i].tolist()), decode(ys[i].tolist()))for i in range(len(xs))]\n",
    "\n",
    "# Print random samples\n",
    "print(decoded_samples)\n",
    "print(f\"length of batchsize = length of list: {len(decoded_samples)}\")\n",
    "print(f\"length of batchsize = length of each string: {len(decoded_samples[0][0])}\")"
   ]
  },
  {
   "cell_type": "markdown",
   "metadata": {},
   "source": [
    "# Setting up loss and evaluation function"
   ]
  },
  {
   "cell_type": "code",
   "execution_count": 10,
   "metadata": {},
   "outputs": [],
   "source": [
    "@torch.no_grad() # Never use gradient for this func\n",
    "def evaluate_loss(model, config = MASTER_CONFIG):\n",
    "    out = {} # Evaluation result\n",
    "    model.eval() # Set model to evaluation mode\n",
    "\n",
    "    # Iterate through training and validation splits\n",
    "    for split in [\"train\", \"val\"]:\n",
    "        losses = [] # individual loss\n",
    "\n",
    "        # Generate 10 batches for evaluation\n",
    "        for _ in range(10):\n",
    "            # Get input sequences (xb) and target sequences (yb)\n",
    "            xb, yb = get_batches(dataset, \"train\", MASTER_CONFIG['batch_size'], MASTER_CONFIG['context_window'])\n",
    "\n",
    "            # Perform model inference and calculate loss\n",
    "            _, loss = model(xb, yb)\n",
    "\n",
    "            # Append losss to list\n",
    "            losses.append(loss.item())\n",
    "        \n",
    "        # Calculate mean loss for split and store it in out dict\n",
    "        out[split] = np.mean(losses)\n",
    "    \n",
    "    # Set model to training mode again\n",
    "    model.train()\n",
    "\n",
    "    return out"
   ]
  },
  {
   "cell_type": "markdown",
   "metadata": {},
   "source": [
    "# Base Neural Network Model"
   ]
  },
  {
   "cell_type": "markdown",
   "metadata": {},
   "source": [
    "It's time my friends. we are going to make our own llm now"
   ]
  },
  {
   "cell_type": "code",
   "execution_count": 11,
   "metadata": {},
   "outputs": [],
   "source": [
    "class SimpleModel(nn.Module):\n",
    "    def __init__(self, config = MASTER_CONFIG):\n",
    "        super().__init__()   # Initiate nn.Module class\n",
    "        self.config = config # Setting up config\n",
    "\n",
    "        # Embedding layer to convert char indices to vectors\n",
    "        self.embedding = nn.Embedding(config[\"vocab_size\"], config[\"d_model\"])\n",
    "\n",
    "        # Linear layers for modeling relationships between features\n",
    "        # (to be update with SwiGLU activation function as in LLaMA)\n",
    "        self.linear = nn.Sequential(\n",
    "            nn.Linear(in_features=config['d_model'], out_features=config['d_model']),\n",
    "            nn.ReLU(), #will replace later\n",
    "            nn.Linear(in_features=config['d_model'], out_features=config['vocab_size']),\n",
    "        )\n",
    "\n",
    "        # Print total num of model parameters\n",
    "        print(f\"Model parameters: {sum([m.numel() for m in self.parameters()])}\")\n",
    "\n",
    "    # Forward pass function\n",
    "    def forward(self, idx, targets = None): # idx is input\n",
    "        # Embedding layer converts character to indices to vectors\n",
    "        x = self.embedding(idx)\n",
    "\n",
    "        # Lienar layers\n",
    "        a = self.linear(x)\n",
    "\n",
    "        # Apply softmax to obtain probability dist\n",
    "        logits = F.softmax(a,dim=-1)\n",
    "\n",
    "        # If targets are provided, calculate and return cross-entropy loss\n",
    "        if targets is not None:\n",
    "            # Reshape logits and targets for cross-entropy cal\n",
    "            loss = F.cross_entropy(logits.view(-1, self.config['vocab_size']), targets.view(-1))\n",
    "            # return logits, loss # remove softmax\n",
    "            return a, loss\n",
    "        \n",
    "        #If targets are not provided, return logits\n",
    "        else:\n",
    "            # return logits # remove softmax\n",
    "            return a"
   ]
  },
  {
   "cell_type": "markdown",
   "metadata": {},
   "source": [
    "# trying out new model"
   ]
  },
  {
   "cell_type": "code",
   "execution_count": 12,
   "metadata": {},
   "outputs": [
    {
     "name": "stdout",
     "output_type": "stream",
     "text": [
      "Model parameters: 33217\n"
     ]
    },
    {
     "data": {
      "text/plain": [
       "SimpleModel(\n",
       "  (embedding): Embedding(65, 128)\n",
       "  (linear): Sequential(\n",
       "    (0): Linear(in_features=128, out_features=128, bias=True)\n",
       "    (1): ReLU()\n",
       "    (2): Linear(in_features=128, out_features=65, bias=True)\n",
       "  )\n",
       ")"
      ]
     },
     "execution_count": 12,
     "metadata": {},
     "output_type": "execute_result"
    }
   ],
   "source": [
    "model = SimpleModel(MASTER_CONFIG)\n",
    "model"
   ]
  },
  {
   "cell_type": "code",
   "execution_count": 13,
   "metadata": {},
   "outputs": [],
   "source": [
    "# # Obtain batches for training using specified batch size and context window\n",
    "# xs, ys = get_batches(dataset, 'train', MASTER_CONFIG['batch_size'], MASTER_CONFIG['context_window'])\n",
    "\n",
    "# # Calculate logits and loss using model\n",
    "# logits, loss = model(xs,ys)"
   ]
  },
  {
   "cell_type": "code",
   "execution_count": 14,
   "metadata": {},
   "outputs": [],
   "source": [
    "# print(f'total loss is: {loss}')\n",
    "# print(f'logits: {logits}')"
   ]
  },
  {
   "cell_type": "markdown",
   "metadata": {},
   "source": [
    "# Training model"
   ]
  },
  {
   "cell_type": "code",
   "execution_count": 15,
   "metadata": {},
   "outputs": [],
   "source": [
    "# Define optimizer for the model\n",
    "optimizer = torch.optim.Adam(\n",
    "    model.parameters(),   # Pass model parameters to optimizer\n",
    "    lr = 0.0001\n",
    ")"
   ]
  },
  {
   "cell_type": "code",
   "execution_count": 16,
   "metadata": {},
   "outputs": [],
   "source": [
    "# Train Function\n",
    "def train(model, optimizer, scheduler = None, config = MASTER_CONFIG, print_logs = False):\n",
    "    losses = []\n",
    "\n",
    "    # Start tracking time\n",
    "    start_time = time.time()\n",
    "\n",
    "    # Iterate through epochs\n",
    "    for epoch in tqdm(range(config['epochs'])):\n",
    "        # Zero grad\n",
    "        optimizer.zero_grad()\n",
    "\n",
    "        # Obtain batches for training\n",
    "        xs, ys = get_batches(dataset, 'train', config['batch_size'], config['context_window'])\n",
    "\n",
    "        # Forward pass through model and calculate logits and loss\n",
    "        logits, loss = model(xs, targets = ys)\n",
    "\n",
    "        # Backward propagation and optimization step\n",
    "        loss.backward()\n",
    "        optimizer.step()\n",
    "\n",
    "        # If a learning rate scheduler is provided, adjust learning rate\n",
    "        if scheduler:\n",
    "            scheduler.step()\n",
    "        \n",
    "        # Log progress after every specified interval\n",
    "        if epoch % config['log_interval'] == 0:\n",
    "            # Calculate batch time\n",
    "            batch_time = time.time() - start_time\n",
    "\n",
    "            # Evaluate loss on validation set\n",
    "            x = evaluate_loss(model)\n",
    "\n",
    "            # Store validation loss\n",
    "            losses += [x]\n",
    "\n",
    "            # Print progress logs\n",
    "            if print_logs:\n",
    "                print(f\"Epoch {epoch} | val loss {x['val']:.3f} | Time {batch_time:.3f} | ETA in seconds {batch_time * (config['epochs'] - epoch)/config['log_interval'] :.3f}\")\n",
    "            \n",
    "            # Reset timer\n",
    "            start_time = time.time()\n",
    "\n",
    "            # Print learning rate if scheduler is provided\n",
    "            if scheduler:\n",
    "                print(f\"lr: {scheduler.get_lr()}\")\n",
    "\n",
    "    # Print final validation loss\n",
    "    print(f\"Validation loss: {losses[-1]['val']}\")\n",
    "\n",
    "    # Plot training and validation loss curves\n",
    "    return pd.DataFrame(losses).plot()"
   ]
  },
  {
   "cell_type": "markdown",
   "metadata": {},
   "source": [
    "### execution time"
   ]
  },
  {
   "cell_type": "code",
   "execution_count": 17,
   "metadata": {},
   "outputs": [
    {
     "name": "stderr",
     "output_type": "stream",
     "text": [
      "100%|██████████| 3000/3000 [00:55<00:00, 54.35it/s]\n"
     ]
    },
    {
     "name": "stdout",
     "output_type": "stream",
     "text": [
      "Validation loss: 3.9481114864349367\n"
     ]
    },
    {
     "data": {
      "text/plain": [
       "<Axes: >"
      ]
     },
     "execution_count": 17,
     "metadata": {},
     "output_type": "execute_result"
    },
    {
     "data": {
      "image/png": "[encoded data removed]",
      "text/plain": [
       "<Figure size 640x480 with 1 Axes>"
      ]
     },
     "metadata": {},
     "output_type": "display_data"
    }
   ],
   "source": [
    "train(model, optimizer)"
   ]
  },
  {
   "cell_type": "code",
   "execution_count": 18,
   "metadata": {},
   "outputs": [
    {
     "data": {
      "text/plain": [
       "['\\n\\n\\n\\n\\n\\n\\n\\n\\n\\n\\n\\n\\n\\n\\n\\n\\n\\n\\n\\n\\n\\n\\n\\n\\n\\n\\n\\n\\n\\n\\n',\n",
       " '\\n\\n\\n\\n\\n\\n\\n\\n\\n\\n\\n\\n\\n\\n\\n\\n\\n\\n\\n\\n\\n\\n\\n\\n\\n\\n\\n\\n\\n\\n\\n',\n",
       " '\\n\\n\\n\\n\\n\\n\\n\\n\\n\\n\\n\\n\\n\\n\\n\\n\\n\\n\\n\\n\\n\\n\\n\\n\\n\\n\\n\\n\\n\\n\\n',\n",
       " '\\n\\n\\n\\n\\n\\n\\n\\n\\n\\n\\n\\n\\n\\n\\n\\n\\n\\n\\n\\n\\n\\n\\n\\n\\n\\n\\n\\n\\n\\n\\n',\n",
       " '\\n\\n\\n\\n\\n\\n\\n\\n\\n\\n\\n\\n\\n\\n\\n\\n\\n\\n\\n\\n\\n\\n\\n\\n\\n\\n\\n\\n\\n\\n\\n']"
      ]
     },
     "execution_count": 18,
     "metadata": {},
     "output_type": "execute_result"
    }
   ],
   "source": [
    "def generate(model, config=MASTER_CONFIG, max_new_tokens = 30):\n",
    "    idx = torch.zeros(5,1).long()\n",
    "    for _ in range(max_new_tokens):\n",
    "        #call model\n",
    "        logits = model(idx[:, -config['context_window']:])\n",
    "        last_time_step_logits = logits[:,-1,:] #all batches (1), last time step, all the logits\n",
    "        p = F.softmax(last_time_step_logits, dim=-1)\n",
    "        idx_next = torch.multinomial(\n",
    "            p, num_samples = 1\n",
    "        ) # sample from the distribution to get the next token\n",
    "        idx = torch.cat([idx, idx_next], dim = -1) # append to the sequence\n",
    "    return [decode(x) for x in idx.tolist()]\n",
    "\n",
    "generate(model)"
   ]
  }
 ],
 "metadata": {
  "kernelspec": {
   "display_name": ".venv",
   "language": "python",
   "name": "python3"
  },
  "language_info": {
   "codemirror_mode": {
    "name": "ipython",
    "version": 3
   },
   "file_extension": ".py",
   "mimetype": "text/x-python",
   "name": "python",
   "nbconvert_exporter": "python",
   "pygments_lexer": "ipython3",
   "version": "3.12.8"
  }
 },
 "nbformat": 4,
 "nbformat_minor": 2
}
